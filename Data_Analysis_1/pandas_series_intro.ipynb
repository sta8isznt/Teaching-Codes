{
 "cells": [
  {
   "cell_type": "code",
   "execution_count": 1,
   "id": "de2a3484",
   "metadata": {},
   "outputs": [
    {
     "name": "stdout",
     "output_type": "stream",
     "text": [
      "Requirement already satisfied: pandas in c:\\users\\admin\\appdata\\local\\programs\\python\\python312\\lib\\site-packages (2.2.3)\n",
      "Requirement already satisfied: numpy>=1.26.0 in c:\\users\\admin\\appdata\\local\\programs\\python\\python312\\lib\\site-packages (from pandas) (2.1.2)\n",
      "Requirement already satisfied: python-dateutil>=2.8.2 in c:\\users\\admin\\appdata\\local\\programs\\python\\python312\\lib\\site-packages (from pandas) (2.9.0.post0)\n",
      "Requirement already satisfied: pytz>=2020.1 in c:\\users\\admin\\appdata\\local\\programs\\python\\python312\\lib\\site-packages (from pandas) (2024.2)\n",
      "Requirement already satisfied: tzdata>=2022.7 in c:\\users\\admin\\appdata\\local\\programs\\python\\python312\\lib\\site-packages (from pandas) (2024.2)\n",
      "Requirement already satisfied: six>=1.5 in c:\\users\\admin\\appdata\\local\\programs\\python\\python312\\lib\\site-packages (from python-dateutil>=2.8.2->pandas) (1.16.0)\n"
     ]
    },
    {
     "name": "stderr",
     "output_type": "stream",
     "text": [
      "\n",
      "[notice] A new release of pip is available: 24.3.1 -> 25.1.1\n",
      "[notice] To update, run: python.exe -m pip install --upgrade pip\n"
     ]
    }
   ],
   "source": [
    "!pip install pandas"
   ]
  },
  {
   "cell_type": "code",
   "execution_count": 2,
   "id": "2ef2ba06",
   "metadata": {},
   "outputs": [
    {
     "name": "stdout",
     "output_type": "stream",
     "text": [
      "2.2.3\n"
     ]
    }
   ],
   "source": [
    "import pandas\n",
    "\n",
    "print(pandas.__version__)"
   ]
  },
  {
   "cell_type": "code",
   "execution_count": 7,
   "id": "f848c1ed",
   "metadata": {},
   "outputs": [
    {
     "data": {
      "text/plain": [
       "day1     400\n",
       "day2     250\n",
       "day3    True\n",
       "dtype: object"
      ]
     },
     "execution_count": 7,
     "metadata": {},
     "output_type": "execute_result"
    }
   ],
   "source": [
    "import pandas as pd\n",
    "\n",
    "calories = {\n",
    "    \"day1\" : 400,\n",
    "    \"day2\": 250,\n",
    "    \"day3\": True\n",
    "}\n",
    "\n",
    "my_series = pd.Series(calories)\n",
    "\n",
    "my_series"
   ]
  },
  {
   "cell_type": "code",
   "execution_count": 1,
   "id": "b297068d",
   "metadata": {},
   "outputs": [],
   "source": [
    "import pandas as pd"
   ]
  },
  {
   "cell_type": "code",
   "execution_count": 5,
   "id": "f51ad0f7",
   "metadata": {},
   "outputs": [
    {
     "name": "stdout",
     "output_type": "stream",
     "text": [
      "a    12.0\n",
      "b    21.0\n",
      "c    33.0\n",
      "d     NaN\n",
      "e     NaN\n",
      "dtype: float64\n"
     ]
    }
   ],
   "source": [
    "s1 = pd.Series([10, 20, 30, 40], index=[\"a\", 'b', 'c', 'd'])\n",
    "s2 = pd.Series([1, 2, 3, 4], index=[\"b\", 'a', 'c', 'e'])\n",
    "print(s1+s2)"
   ]
  },
  {
   "cell_type": "code",
   "execution_count": 3,
   "id": "36d25c67",
   "metadata": {},
   "outputs": [
    {
     "data": {
      "text/plain": [
       "a    10\n",
       "b    20\n",
       "c    30\n",
       "d    40\n",
       "dtype: int64"
      ]
     },
     "execution_count": 3,
     "metadata": {},
     "output_type": "execute_result"
    }
   ],
   "source": [
    "s1"
   ]
  },
  {
   "cell_type": "code",
   "execution_count": 4,
   "id": "30704bcd",
   "metadata": {},
   "outputs": [
    {
     "data": {
      "text/plain": [
       "b    1\n",
       "a    2\n",
       "c    3\n",
       "d    4\n",
       "dtype: int64"
      ]
     },
     "execution_count": 4,
     "metadata": {},
     "output_type": "execute_result"
    }
   ],
   "source": [
    "s2"
   ]
  },
  {
   "cell_type": "code",
   "execution_count": 3,
   "id": "f6d63e5d",
   "metadata": {},
   "outputs": [],
   "source": [
    "s1 = pd.Series([10, 3, 2, 4, 10, 10, 5])\n"
   ]
  },
  {
   "cell_type": "code",
   "execution_count": 5,
   "id": "7494aff8",
   "metadata": {},
   "outputs": [
    {
     "name": "stdout",
     "output_type": "stream",
     "text": [
      "44\n"
     ]
    }
   ],
   "source": [
    "print(s1.sum())"
   ]
  },
  {
   "cell_type": "code",
   "execution_count": 6,
   "id": "701b57d6",
   "metadata": {},
   "outputs": [
    {
     "name": "stdout",
     "output_type": "stream",
     "text": [
      "6.285714285714286\n"
     ]
    }
   ],
   "source": [
    "print(s1.mean())"
   ]
  },
  {
   "cell_type": "code",
   "execution_count": 7,
   "id": "ac10cafb",
   "metadata": {},
   "outputs": [
    {
     "name": "stdout",
     "output_type": "stream",
     "text": [
      "6.285714285714286\n"
     ]
    }
   ],
   "source": [
    "print(s1.sum()/ len(s1))"
   ]
  },
  {
   "cell_type": "code",
   "execution_count": 8,
   "id": "2ecc31c6",
   "metadata": {},
   "outputs": [
    {
     "name": "stdout",
     "output_type": "stream",
     "text": [
      "0    10\n",
      "1     3\n",
      "2     2\n",
      "3     4\n",
      "4    10\n",
      "5    10\n",
      "6     5\n",
      "dtype: int64\n"
     ]
    }
   ],
   "source": [
    "print(s1)"
   ]
  },
  {
   "cell_type": "code",
   "execution_count": 9,
   "id": "da1c673f",
   "metadata": {},
   "outputs": [
    {
     "data": {
      "text/plain": [
       "array([10,  3,  2,  4,  5])"
      ]
     },
     "execution_count": 9,
     "metadata": {},
     "output_type": "execute_result"
    }
   ],
   "source": [
    "s1.unique()"
   ]
  },
  {
   "cell_type": "code",
   "execution_count": 10,
   "id": "35457a21",
   "metadata": {},
   "outputs": [
    {
     "data": {
      "text/plain": [
       "0"
      ]
     },
     "execution_count": 10,
     "metadata": {},
     "output_type": "execute_result"
    }
   ],
   "source": [
    "s1.idxmax()"
   ]
  },
  {
   "cell_type": "code",
   "execution_count": 13,
   "id": "230b35d8",
   "metadata": {},
   "outputs": [
    {
     "data": {
      "text/plain": [
       "0    10\n",
       "5    10\n",
       "4    10\n",
       "6     5\n",
       "3     4\n",
       "1     3\n",
       "2     2\n",
       "dtype: int64"
      ]
     },
     "execution_count": 13,
     "metadata": {},
     "output_type": "execute_result"
    }
   ],
   "source": [
    "s1.sort_values(ascending=False)"
   ]
  },
  {
   "cell_type": "code",
   "execution_count": 14,
   "id": "b131b2fc",
   "metadata": {},
   "outputs": [
    {
     "data": {
      "text/plain": [
       "10    3\n",
       "3     1\n",
       "2     1\n",
       "4     1\n",
       "5     1\n",
       "Name: count, dtype: int64"
      ]
     },
     "execution_count": 14,
     "metadata": {},
     "output_type": "execute_result"
    }
   ],
   "source": [
    "s1.value_counts()"
   ]
  },
  {
   "cell_type": "code",
   "execution_count": 18,
   "id": "4cf48214",
   "metadata": {},
   "outputs": [
    {
     "data": {
      "text/plain": [
       "1    0\n",
       "2    0\n",
       "3    0\n",
       "4    0\n",
       "5    0\n",
       "6    0\n",
       "dtype: int64"
      ]
     },
     "execution_count": 18,
     "metadata": {},
     "output_type": "execute_result"
    }
   ],
   "source": [
    "s3 = pd.Series(0, index=[1, 2, 3, 4, 5, 6])\n",
    "s3"
   ]
  },
  {
   "cell_type": "code",
   "execution_count": 20,
   "id": "7f6ba0f5",
   "metadata": {},
   "outputs": [
    {
     "name": "stdout",
     "output_type": "stream",
     "text": [
      "13.75\n"
     ]
    }
   ],
   "source": [
    "s1 = pd.Series([10, 20, 30, 40], index=[\"a\", 'b', 'c', 'd'])\n",
    "s2 = pd.Series([1, 2, 3, 4], index=[\"b\", 'a', 'c', 'd'])\n",
    "mean1 = s1.mean()\n",
    "mean2 = s2.mean()\n",
    "total = (mean1 + mean2)/2\n",
    "print(total)"
   ]
  },
  {
   "cell_type": "code",
   "execution_count": 21,
   "id": "49fcc3ff",
   "metadata": {},
   "outputs": [
    {
     "data": {
      "text/plain": [
       "a     6.0\n",
       "b    10.5\n",
       "c    16.5\n",
       "d    22.0\n",
       "dtype: float64"
      ]
     },
     "execution_count": 21,
     "metadata": {},
     "output_type": "execute_result"
    }
   ],
   "source": [
    "s3 = (s1 + s2) / 2\n",
    "s3"
   ]
  },
  {
   "cell_type": "code",
   "execution_count": 23,
   "id": "ac546293",
   "metadata": {},
   "outputs": [
    {
     "data": {
      "text/plain": [
       "np.float64(13.75)"
      ]
     },
     "execution_count": 23,
     "metadata": {},
     "output_type": "execute_result"
    }
   ],
   "source": [
    "total_avg = s3.sum() / len(s3)\n",
    "total_avg"
   ]
  },
  {
   "cell_type": "code",
   "execution_count": 1,
   "id": "9913e46f",
   "metadata": {},
   "outputs": [
    {
     "name": "stdout",
     "output_type": "stream",
     "text": [
      "Όλες οι τιμές:\n",
      "0        100\n",
      "1        150\n",
      "2        200\n",
      "3        250\n",
      "4      error\n",
      "5        300\n",
      "6    invalid\n",
      "7        350\n",
      "8        400\n",
      "9        450\n",
      "dtype: object\n",
      "\n",
      "Τιμές ως αριθμοί (μη έγκυρες = NaN):\n",
      "0    100.0\n",
      "1    150.0\n",
      "2    200.0\n",
      "3    250.0\n",
      "4      NaN\n",
      "5    300.0\n",
      "6      NaN\n",
      "7    350.0\n",
      "8    400.0\n",
      "9    450.0\n",
      "dtype: float64\n",
      "\n",
      "Συνολικός αριθμός downloads (έγκυρες τιμές μόνο):\n",
      "2200.0\n"
     ]
    }
   ],
   "source": [
    "import pandas as pd\n",
    "\n",
    "# Βήμα 1: Δημιουργία των δύο σειρών\n",
    "downloads_a = ['100', '150', '200', '250', 'error']\n",
    "downloads_b = ['300', 'invalid', '350', '400', '450']\n",
    "\n",
    "s1 = pd.Series(downloads_a)\n",
    "s2 = pd.Series(downloads_b)\n",
    "\n",
    "# Βήμα 2: Συνένωση των δύο σειρών σε μία, αγνοώντας το αρχικό index\n",
    "all_downloads = pd.concat([s1, s2], ignore_index=True)\n",
    "\n",
    "# Βήμα 3: Μετατροπή των τιμών σε αριθμούς, μετατρέποντας τα μη έγκυρα σε NaN\n",
    "numeric_downloads = pd.to_numeric(all_downloads, errors='coerce')\n",
    "\n",
    "# Βήμα 4: Υπολογισμός του αθροίσματος των έγκυρων αριθμών\n",
    "total = numeric_downloads.sum()\n",
    "\n",
    "# Εμφάνιση των αποτελεσμάτων\n",
    "print(\"Όλες οι τιμές:\")\n",
    "print(all_downloads)\n",
    "\n",
    "print(\"\\nΤιμές ως αριθμοί (μη έγκυρες = NaN):\")\n",
    "print(numeric_downloads)\n",
    "\n",
    "print(\"\\nΣυνολικός αριθμός downloads (έγκυρες τιμές μόνο):\")\n",
    "print(total)\n"
   ]
  },
  {
   "cell_type": "code",
   "execution_count": 6,
   "id": "63615711",
   "metadata": {},
   "outputs": [],
   "source": [
    "s1 = pd.Series([10, 20, 30, 40], index=[\"a\", 'b', 'c', 'd'])"
   ]
  },
  {
   "cell_type": "code",
   "execution_count": 7,
   "id": "cd20da93",
   "metadata": {},
   "outputs": [],
   "source": [
    "s1['b'] = 40"
   ]
  },
  {
   "cell_type": "code",
   "execution_count": 8,
   "id": "0c7f6ba4",
   "metadata": {},
   "outputs": [
    {
     "data": {
      "text/plain": [
       "a    10\n",
       "b    40\n",
       "c    30\n",
       "d    40\n",
       "dtype: int64"
      ]
     },
     "execution_count": 8,
     "metadata": {},
     "output_type": "execute_result"
    }
   ],
   "source": [
    "s1"
   ]
  },
  {
   "cell_type": "code",
   "execution_count": 9,
   "id": "25306890",
   "metadata": {},
   "outputs": [
    {
     "data": {
      "text/plain": [
       "a    10\n",
       "b    40\n",
       "c    30\n",
       "d    40\n",
       "e    60\n",
       "dtype: int64"
      ]
     },
     "execution_count": 9,
     "metadata": {},
     "output_type": "execute_result"
    }
   ],
   "source": [
    "s1['e'] = 60\n",
    "s1"
   ]
  },
  {
   "cell_type": "code",
   "execution_count": null,
   "id": "3a716164",
   "metadata": {},
   "outputs": [],
   "source": [
    "print(len(temps[temps > temps.mean()]))"
   ]
  }
 ],
 "metadata": {
  "kernelspec": {
   "display_name": "Python 3",
   "language": "python",
   "name": "python3"
  },
  "language_info": {
   "codemirror_mode": {
    "name": "ipython",
    "version": 3
   },
   "file_extension": ".py",
   "mimetype": "text/x-python",
   "name": "python",
   "nbconvert_exporter": "python",
   "pygments_lexer": "ipython3",
   "version": "3.12.4"
  }
 },
 "nbformat": 4,
 "nbformat_minor": 5
}
