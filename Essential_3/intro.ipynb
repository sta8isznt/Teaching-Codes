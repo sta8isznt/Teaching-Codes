{
 "cells": [
  {
   "cell_type": "code",
   "execution_count": null,
   "id": "a390709c",
   "metadata": {},
   "outputs": [
    {
     "name": "stdout",
     "output_type": "stream",
     "text": [
      "Hello\n"
     ]
    }
   ],
   "source": [
    "print(\"Hello\")"
   ]
  },
  {
   "cell_type": "code",
   "execution_count": 2,
   "id": "aa99d6b7",
   "metadata": {},
   "outputs": [],
   "source": [
    "name = input(\"Enter your name: \")"
   ]
  },
  {
   "cell_type": "code",
   "execution_count": 3,
   "id": "2e44c819",
   "metadata": {},
   "outputs": [
    {
     "name": "stdout",
     "output_type": "stream",
     "text": [
      "Stathis\n"
     ]
    }
   ],
   "source": [
    "print(name)"
   ]
  },
  {
   "cell_type": "code",
   "execution_count": 4,
   "id": "307612e0",
   "metadata": {},
   "outputs": [],
   "source": [
    "age = input(\"Enter your age: \")"
   ]
  },
  {
   "cell_type": "code",
   "execution_count": 5,
   "id": "75126aa2",
   "metadata": {},
   "outputs": [
    {
     "name": "stdout",
     "output_type": "stream",
     "text": [
      "<class 'str'>\n"
     ]
    }
   ],
   "source": [
    "print(type(age))"
   ]
  },
  {
   "cell_type": "code",
   "execution_count": 6,
   "id": "b60c3e46",
   "metadata": {},
   "outputs": [
    {
     "name": "stdout",
     "output_type": "stream",
     "text": [
      "<class 'int'>\n"
     ]
    }
   ],
   "source": [
    "age = \"25\"\n",
    "age = int(age)\n",
    "print(type(age))"
   ]
  },
  {
   "cell_type": "code",
   "execution_count": 7,
   "id": "871806fa",
   "metadata": {},
   "outputs": [],
   "source": [
    "age = int(input(\"Enter your age\"))"
   ]
  },
  {
   "cell_type": "code",
   "execution_count": 8,
   "id": "76b9e92a",
   "metadata": {},
   "outputs": [
    {
     "name": "stdout",
     "output_type": "stream",
     "text": [
      "<class 'int'>\n"
     ]
    }
   ],
   "source": [
    "print(type(age))"
   ]
  },
  {
   "cell_type": "code",
   "execution_count": 10,
   "id": "5e74ef5a",
   "metadata": {},
   "outputs": [
    {
     "name": "stdout",
     "output_type": "stream",
     "text": [
      "26\n"
     ]
    }
   ],
   "source": [
    "age = \"25\"\n",
    "age = int(age)\n",
    "print(age + 1)"
   ]
  },
  {
   "cell_type": "code",
   "execution_count": 11,
   "id": "ad24bd7d",
   "metadata": {},
   "outputs": [
    {
     "name": "stdout",
     "output_type": "stream",
     "text": [
      "30\n"
     ]
    }
   ],
   "source": [
    "x = int(input(\"Enter the first number\"))\n",
    "y = int(input(\"Enter the second number\"))\n",
    "print(x + y)"
   ]
  },
  {
   "cell_type": "code",
   "execution_count": 12,
   "id": "5d10200c",
   "metadata": {},
   "outputs": [
    {
     "name": "stdout",
     "output_type": "stream",
     "text": [
      "200\n",
      "60\n"
     ]
    }
   ],
   "source": [
    "width = int(input(\"Enter the width: \"))\n",
    "height = int(input(\"Enter the height: \"))\n",
    "print(width*height)\n",
    "print(2 * width + 2 * height)"
   ]
  },
  {
   "cell_type": "code",
   "execution_count": 14,
   "id": "aa3ae387",
   "metadata": {},
   "outputs": [
    {
     "data": {
      "text/plain": [
       "True"
      ]
     },
     "execution_count": 14,
     "metadata": {},
     "output_type": "execute_result"
    }
   ],
   "source": [
    "4 == 4"
   ]
  },
  {
   "cell_type": "code",
   "execution_count": 15,
   "id": "5d383af3",
   "metadata": {},
   "outputs": [
    {
     "data": {
      "text/plain": [
       "False"
      ]
     },
     "execution_count": 15,
     "metadata": {},
     "output_type": "execute_result"
    }
   ],
   "source": [
    "5 > 10"
   ]
  },
  {
   "cell_type": "code",
   "execution_count": 16,
   "id": "6051159d",
   "metadata": {},
   "outputs": [
    {
     "data": {
      "text/plain": [
       "True"
      ]
     },
     "execution_count": 16,
     "metadata": {},
     "output_type": "execute_result"
    }
   ],
   "source": [
    "4 <= 4"
   ]
  },
  {
   "cell_type": "code",
   "execution_count": 20,
   "id": "1bf11786",
   "metadata": {},
   "outputs": [
    {
     "name": "stdout",
     "output_type": "stream",
     "text": [
      "You are an adult\n",
      "Hello\n"
     ]
    }
   ],
   "source": [
    "age = int(input(\"Enter your age: \"))\n",
    "if age > 18:\n",
    "    print(\"You are an adult\")\n",
    "else:\n",
    "    print(\"You are a child\")\n",
    "\n",
    "print(\"Hello\")"
   ]
  },
  {
   "cell_type": "code",
   "execution_count": 24,
   "id": "67c9e2f3",
   "metadata": {},
   "outputs": [
    {
     "name": "stdout",
     "output_type": "stream",
     "text": [
      "Its fine outside\n"
     ]
    }
   ],
   "source": [
    "deg = int(input(\"Enter the temperature outside: \"))\n",
    "if deg < 10:\n",
    "    print(\"Its cold outside\")\n",
    "elif deg > 25:\n",
    "    print(\"Its warm outside\")\n",
    "else:\n",
    "    print(\"Its fine outside\")"
   ]
  },
  {
   "cell_type": "code",
   "execution_count": 26,
   "id": "b720ae9f",
   "metadata": {},
   "outputs": [
    {
     "name": "stdout",
     "output_type": "stream",
     "text": [
      "Welcome admin!\n"
     ]
    }
   ],
   "source": [
    "username = input(\"Enter the username: \")\n",
    "password = int(input(\"Enter the password: \"))\n",
    "# city = input(\"Enter the city you live: \")\n",
    "\n",
    "if username == \"admin\" and password == 1234:\n",
    "    print(\"Welcome admin!\")\n",
    "else:\n",
    "    print(\"You are not allowed to use the app\")"
   ]
  },
  {
   "cell_type": "code",
   "execution_count": 28,
   "id": "db83061b",
   "metadata": {},
   "outputs": [
    {
     "name": "stdout",
     "output_type": "stream",
     "text": [
      "odd\n"
     ]
    }
   ],
   "source": [
    "num = int(input(\"Enter a number: \"))\n",
    "\n",
    "if num % 2 == 0:\n",
    "    print(\"even\")\n",
    "else:\n",
    "    print(\"odd\")"
   ]
  },
  {
   "cell_type": "code",
   "execution_count": 29,
   "id": "569857a6",
   "metadata": {},
   "outputs": [
    {
     "name": "stdout",
     "output_type": "stream",
     "text": [
      "['a', 'c', 'o']\n"
     ]
    }
   ],
   "source": [
    "letters = [\"a\", \"c\", \"o\"]\n",
    "print(letters)"
   ]
  },
  {
   "cell_type": "markdown",
   "id": "bb1f0ee0",
   "metadata": {},
   "source": [
    "Προσφορά στο κατάστημα\n",
    "Ζήτησε από τον χρήστη το ποσό που αγόρασε.\n",
    "Αν είναι πάνω από 100€, δώσε 20% έκπτωση και εμφάνισε το τελικό ποσό.\n",
    "Αν είναι πάνω από 50€, δώσε 10% έκπτωση και εμφάνισε το τελικό ποσό.\n",
    "Αλλιώς, τύπωσε \"Δεν υπάρχει έκπτωση\".\n"
   ]
  },
  {
   "cell_type": "code",
   "execution_count": null,
   "id": "d65bfc66",
   "metadata": {},
   "outputs": [
    {
     "name": "stdout",
     "output_type": "stream",
     "text": [
      "You have to pay the whole ammount\n"
     ]
    }
   ],
   "source": [
    "ammount = int(input(\"Enter the ammount you spent: \"))\n",
    "\n",
    "if ammount > 100:\n",
    "    disq = ammount * 0.2\n",
    "    print(\"You have to pay\", ammount-disq)\n",
    "elif ammount > 50:\n",
    "    disq = ammount * 0.1\n",
    "    print(\"You have to pay\", ammount - disq)\n",
    "else:\n",
    "    print(\"You have to pay the whole ammount\")"
   ]
  },
  {
   "cell_type": "code",
   "execution_count": 5,
   "id": "6b363891",
   "metadata": {},
   "outputs": [
    {
     "name": "stdout",
     "output_type": "stream",
     "text": [
      "Hello world 10 34.5\n"
     ]
    }
   ],
   "source": [
    "print(\"Hello\", \"world\", 10, 34.5)"
   ]
  },
  {
   "cell_type": "code",
   "execution_count": 7,
   "id": "f0c0d33a",
   "metadata": {},
   "outputs": [
    {
     "name": "stdout",
     "output_type": "stream",
     "text": [
      "Hello John\n",
      "Hello John. How are you?\n"
     ]
    }
   ],
   "source": [
    "name = \"John\"\n",
    "print(\"Hello\", name)\n",
    "print(f\"Hello {name}. How are you?\")"
   ]
  },
  {
   "cell_type": "code",
   "execution_count": 8,
   "id": "4e0049df",
   "metadata": {},
   "outputs": [
    {
     "name": "stdout",
     "output_type": "stream",
     "text": [
      "Hello\n",
      "world\n"
     ]
    }
   ],
   "source": [
    "print(\"Hello\\nworld\")"
   ]
  },
  {
   "cell_type": "code",
   "execution_count": 9,
   "id": "f2e4de1c",
   "metadata": {},
   "outputs": [
    {
     "name": "stdout",
     "output_type": "stream",
     "text": [
      "To do\n",
      "\tWake up\n",
      "\tsomething\n"
     ]
    }
   ],
   "source": [
    "print(\"To do\\n\\tWake up\\n\\tsomething\")"
   ]
  },
  {
   "cell_type": "code",
   "execution_count": 21,
   "id": "b5d408a7",
   "metadata": {},
   "outputs": [],
   "source": [
    "letters = ['a', 'c', 'b', 'k', 'x', 'o', 'r']"
   ]
  },
  {
   "cell_type": "code",
   "execution_count": 11,
   "id": "5f1337df",
   "metadata": {},
   "outputs": [
    {
     "name": "stdout",
     "output_type": "stream",
     "text": [
      "['a', 'c', 'b', 'k']\n"
     ]
    }
   ],
   "source": [
    "print(letters)"
   ]
  },
  {
   "cell_type": "code",
   "execution_count": 12,
   "id": "70b89a89",
   "metadata": {},
   "outputs": [
    {
     "name": "stdout",
     "output_type": "stream",
     "text": [
      "b\n"
     ]
    }
   ],
   "source": [
    "print(letters[2])"
   ]
  },
  {
   "cell_type": "code",
   "execution_count": 13,
   "id": "a2750195",
   "metadata": {},
   "outputs": [
    {
     "name": "stdout",
     "output_type": "stream",
     "text": [
      "a\n"
     ]
    }
   ],
   "source": [
    "print(letters[0])"
   ]
  },
  {
   "cell_type": "code",
   "execution_count": 15,
   "id": "ec52c75b",
   "metadata": {},
   "outputs": [
    {
     "name": "stdout",
     "output_type": "stream",
     "text": [
      "b\n"
     ]
    }
   ],
   "source": [
    "print(letters[-2])"
   ]
  },
  {
   "cell_type": "code",
   "execution_count": 17,
   "id": "7b57f4f9",
   "metadata": {},
   "outputs": [
    {
     "name": "stdout",
     "output_type": "stream",
     "text": [
      "['c', 'b']\n"
     ]
    }
   ],
   "source": [
    "print(letters[1:3])"
   ]
  },
  {
   "cell_type": "code",
   "execution_count": null,
   "id": "e5af3b82",
   "metadata": {},
   "outputs": [
    {
     "name": "stdout",
     "output_type": "stream",
     "text": [
      "['a', 'c', 'b']\n"
     ]
    }
   ],
   "source": [
    "print(letters[:3])"
   ]
  },
  {
   "cell_type": "code",
   "execution_count": 19,
   "id": "3b6af211",
   "metadata": {},
   "outputs": [
    {
     "name": "stdout",
     "output_type": "stream",
     "text": [
      "['c', 'b', 'k']\n"
     ]
    }
   ],
   "source": [
    "print(letters[1:])"
   ]
  },
  {
   "cell_type": "code",
   "execution_count": 23,
   "id": "05c309a6",
   "metadata": {},
   "outputs": [
    {
     "name": "stdout",
     "output_type": "stream",
     "text": [
      "['a', 'c', 'b', 'k', 'x', 'o', 'r']\n"
     ]
    }
   ],
   "source": [
    "print(letters)"
   ]
  },
  {
   "cell_type": "code",
   "execution_count": 25,
   "id": "38e9d74c",
   "metadata": {},
   "outputs": [
    {
     "name": "stdout",
     "output_type": "stream",
     "text": [
      "['a', 'k', 'r']\n"
     ]
    }
   ],
   "source": [
    "print(letters[::3])"
   ]
  },
  {
   "cell_type": "code",
   "execution_count": 26,
   "id": "4937c9c7",
   "metadata": {},
   "outputs": [
    {
     "name": "stdout",
     "output_type": "stream",
     "text": [
      "['a', 'c', 'b', 'k', 'x', 'o', 'r', 'p']\n"
     ]
    }
   ],
   "source": [
    "letters.append('p')\n",
    "print(letters)"
   ]
  },
  {
   "cell_type": "code",
   "execution_count": 32,
   "id": "70b93ee7",
   "metadata": {},
   "outputs": [
    {
     "name": "stdout",
     "output_type": "stream",
     "text": [
      "['a', 'e', 'e', 'e', 'e', 'z', 'z', 'c', 'b', 'k', 'x', 'o', 'r', 'p']\n"
     ]
    }
   ],
   "source": [
    "letters.insert(1, 'e')\n",
    "print(letters)"
   ]
  },
  {
   "cell_type": "code",
   "execution_count": 33,
   "id": "4db1add1",
   "metadata": {},
   "outputs": [
    {
     "name": "stdout",
     "output_type": "stream",
     "text": [
      "['a', 'e', 'e', 'e', 'e', 'z', 'z', 'c', 'b', 'k', 'x', 'o', 'r']\n"
     ]
    }
   ],
   "source": [
    "letters.pop()\n",
    "print(letters)"
   ]
  },
  {
   "cell_type": "code",
   "execution_count": 34,
   "id": "80037346",
   "metadata": {},
   "outputs": [
    {
     "name": "stdout",
     "output_type": "stream",
     "text": [
      "['a', 'e', 'e', 'e', 'z', 'z', 'c', 'b', 'k', 'x', 'o', 'r']\n"
     ]
    }
   ],
   "source": [
    "letters.pop(1)\n",
    "print(letters)"
   ]
  },
  {
   "cell_type": "code",
   "execution_count": 35,
   "id": "981e4e04",
   "metadata": {},
   "outputs": [
    {
     "name": "stdout",
     "output_type": "stream",
     "text": [
      "['a', 'e', 'e', 'e', 'z', 'z', 'b', 'k', 'x', 'o', 'r']\n"
     ]
    }
   ],
   "source": [
    "letters.remove('c')\n",
    "print(letters)"
   ]
  },
  {
   "cell_type": "code",
   "execution_count": 36,
   "id": "48fb375c",
   "metadata": {},
   "outputs": [
    {
     "name": "stdout",
     "output_type": "stream",
     "text": [
      "['a', 'e', 'e', 'e', 'z', 'b', 'k', 'x', 'o', 'r']\n"
     ]
    }
   ],
   "source": [
    "letters.remove('z')\n",
    "print(letters)"
   ]
  },
  {
   "cell_type": "code",
   "execution_count": 37,
   "id": "89998ab4",
   "metadata": {},
   "outputs": [
    {
     "name": "stdout",
     "output_type": "stream",
     "text": [
      "[2, 1, 6]\n"
     ]
    }
   ],
   "source": [
    "nums = [1, 2, 1, 6]\n",
    "nums.remove(1)\n",
    "print(nums)"
   ]
  },
  {
   "cell_type": "code",
   "execution_count": 38,
   "id": "344a474a",
   "metadata": {},
   "outputs": [
    {
     "name": "stdout",
     "output_type": "stream",
     "text": [
      "[]\n"
     ]
    }
   ],
   "source": [
    "letters.clear()\n",
    "print(letters)"
   ]
  },
  {
   "cell_type": "code",
   "execution_count": 39,
   "id": "06a14b02",
   "metadata": {},
   "outputs": [
    {
     "name": "stdout",
     "output_type": "stream",
     "text": [
      "[2, 1, 6]\n"
     ]
    }
   ],
   "source": [
    "print(nums)"
   ]
  },
  {
   "cell_type": "code",
   "execution_count": 40,
   "id": "232af7df",
   "metadata": {},
   "outputs": [
    {
     "name": "stdout",
     "output_type": "stream",
     "text": [
      "[2, 10, 6]\n"
     ]
    }
   ],
   "source": [
    "nums[1] = 10\n",
    "print(nums)"
   ]
  },
  {
   "cell_type": "code",
   "execution_count": 41,
   "id": "4a4dea81",
   "metadata": {},
   "outputs": [
    {
     "name": "stdout",
     "output_type": "stream",
     "text": [
      "[2, 10, 3]\n"
     ]
    }
   ],
   "source": [
    "nums[2] = 3\n",
    "print(nums)"
   ]
  },
  {
   "cell_type": "code",
   "execution_count": 42,
   "id": "dd51b44c",
   "metadata": {},
   "outputs": [
    {
     "name": "stdout",
     "output_type": "stream",
     "text": [
      "3\n"
     ]
    }
   ],
   "source": [
    "print(len(nums))"
   ]
  },
  {
   "cell_type": "code",
   "execution_count": 43,
   "id": "1f2aebeb",
   "metadata": {},
   "outputs": [
    {
     "name": "stdout",
     "output_type": "stream",
     "text": [
      "4\n"
     ]
    }
   ],
   "source": [
    "nums.append(4)\n",
    "print(len(nums))"
   ]
  },
  {
   "cell_type": "code",
   "execution_count": 47,
   "id": "495a14da",
   "metadata": {},
   "outputs": [
    {
     "name": "stdout",
     "output_type": "stream",
     "text": [
      "[2, 10, 3, 4]\n"
     ]
    }
   ],
   "source": [
    "print(nums)"
   ]
  },
  {
   "cell_type": "code",
   "execution_count": 45,
   "id": "c0b98b0a",
   "metadata": {},
   "outputs": [
    {
     "name": "stdout",
     "output_type": "stream",
     "text": [
      "2\n"
     ]
    }
   ],
   "source": [
    "print(min(nums))"
   ]
  },
  {
   "cell_type": "code",
   "execution_count": 46,
   "id": "65b3f377",
   "metadata": {},
   "outputs": [
    {
     "name": "stdout",
     "output_type": "stream",
     "text": [
      "19\n"
     ]
    }
   ],
   "source": [
    "print(sum(nums))"
   ]
  },
  {
   "cell_type": "code",
   "execution_count": null,
   "id": "143d8cc3",
   "metadata": {},
   "outputs": [
    {
     "name": "stdout",
     "output_type": "stream",
     "text": [
      "[2, 3, 4, 10]\n"
     ]
    }
   ],
   "source": [
    "print(sorted(nums))"
   ]
  },
  {
   "cell_type": "code",
   "execution_count": 49,
   "id": "1a241105",
   "metadata": {},
   "outputs": [
    {
     "name": "stdout",
     "output_type": "stream",
     "text": [
      "[2, 10, 3, 4]\n"
     ]
    }
   ],
   "source": [
    "print(nums)"
   ]
  },
  {
   "cell_type": "code",
   "execution_count": 50,
   "id": "e64d46d7",
   "metadata": {},
   "outputs": [
    {
     "name": "stdout",
     "output_type": "stream",
     "text": [
      "[2, 3, 4, 10]\n"
     ]
    }
   ],
   "source": [
    "nums.sort()\n",
    "print(nums)"
   ]
  },
  {
   "cell_type": "code",
   "execution_count": 51,
   "id": "255a03e0",
   "metadata": {},
   "outputs": [
    {
     "name": "stdout",
     "output_type": "stream",
     "text": [
      "Hello\n",
      "Hello\n",
      "Hello\n",
      "Hello\n",
      "Hello\n"
     ]
    }
   ],
   "source": [
    "for x in range(5):\n",
    "    print(\"Hello\")"
   ]
  },
  {
   "cell_type": "code",
   "execution_count": null,
   "id": "0918e64c",
   "metadata": {},
   "outputs": [],
   "source": []
  },
  {
   "cell_type": "code",
   "execution_count": 52,
   "id": "33b949c5",
   "metadata": {},
   "outputs": [
    {
     "name": "stdout",
     "output_type": "stream",
     "text": [
      "0\n",
      "1\n",
      "2\n",
      "3\n",
      "4\n"
     ]
    }
   ],
   "source": [
    "for x in range(5):\n",
    "    print(x)"
   ]
  },
  {
   "cell_type": "code",
   "execution_count": 61,
   "id": "3be5db0e",
   "metadata": {},
   "outputs": [],
   "source": [
    "letters = ['a', 'v', 's', 't', 'e']"
   ]
  },
  {
   "cell_type": "code",
   "execution_count": 56,
   "id": "4cbfbc76",
   "metadata": {},
   "outputs": [
    {
     "name": "stdout",
     "output_type": "stream",
     "text": [
      "a\n",
      "v\n",
      "s\n",
      "t\n",
      "e\n"
     ]
    }
   ],
   "source": [
    "for i in range(5):\n",
    "    print(letters[i])"
   ]
  },
  {
   "cell_type": "code",
   "execution_count": 63,
   "id": "2d401c31",
   "metadata": {},
   "outputs": [
    {
     "name": "stdout",
     "output_type": "stream",
     "text": [
      "a\n",
      "v\n",
      "s\n",
      "t\n",
      "e\n"
     ]
    }
   ],
   "source": [
    "for i in range(len(letters)):\n",
    "    print(letters[i])"
   ]
  },
  {
   "cell_type": "code",
   "execution_count": 62,
   "id": "03c7cd69",
   "metadata": {},
   "outputs": [
    {
     "name": "stdout",
     "output_type": "stream",
     "text": [
      "a\n",
      "v\n",
      "s\n",
      "t\n",
      "e\n"
     ]
    }
   ],
   "source": [
    "for x in letters:\n",
    "    print(x)"
   ]
  },
  {
   "cell_type": "code",
   "execution_count": 59,
   "id": "a1fbcce4",
   "metadata": {},
   "outputs": [
    {
     "name": "stdout",
     "output_type": "stream",
     "text": [
      "3\n",
      "6\n",
      "9\n",
      "12\n",
      "15\n",
      "18\n",
      "21\n",
      "24\n",
      "27\n",
      "30\n"
     ]
    }
   ],
   "source": [
    "for y in range(1, 11):\n",
    "    print(3*y)"
   ]
  },
  {
   "cell_type": "code",
   "execution_count": 64,
   "id": "b576ae49",
   "metadata": {},
   "outputs": [
    {
     "name": "stdout",
     "output_type": "stream",
     "text": [
      "100\n"
     ]
    }
   ],
   "source": [
    "nums = [10, 20, 30, 40]\n",
    "print(sum(nums))"
   ]
  },
  {
   "cell_type": "code",
   "execution_count": 66,
   "id": "9ce6ff43",
   "metadata": {},
   "outputs": [
    {
     "name": "stdout",
     "output_type": "stream",
     "text": [
      "10\n",
      "30\n",
      "60\n",
      "100\n",
      "100\n"
     ]
    }
   ],
   "source": [
    "ans = 0\n",
    "for num in nums:\n",
    "    ans += num\n",
    "    print(ans)\n",
    "    # ans = ans + num\n",
    "\n",
    "print(ans)"
   ]
  },
  {
   "cell_type": "code",
   "execution_count": 68,
   "id": "95a89f4a",
   "metadata": {},
   "outputs": [
    {
     "name": "stdout",
     "output_type": "stream",
     "text": [
      "10\n",
      "200\n",
      "6000\n",
      "240000\n",
      "240000\n"
     ]
    }
   ],
   "source": [
    "ans = 1\n",
    "for num in nums:\n",
    "    ans *= num\n",
    "    print(ans)\n",
    "\n",
    "print(ans)"
   ]
  },
  {
   "cell_type": "code",
   "execution_count": null,
   "id": "f95bfb2f",
   "metadata": {},
   "outputs": [
    {
     "name": "stdout",
     "output_type": "stream",
     "text": [
      "2\n"
     ]
    }
   ],
   "source": [
    "nums = [2, 3, 4, 1, 2, 3, 2, 2]\n",
    "\n",
    "counter = 0\n",
    "for num in nums:\n",
    "    if num == 3:\n",
    "        counter += 1\n",
    "\n",
    "print(counter)"
   ]
  },
  {
   "cell_type": "code",
   "execution_count": null,
   "id": "d8e0b81c",
   "metadata": {},
   "outputs": [
    {
     "name": "stdout",
     "output_type": "stream",
     "text": [
      "[50, 40, 30, 20, 10]\n"
     ]
    }
   ],
   "source": [
    "my_list = [3, 1, 6, 4, 8, 1]\n",
    "my_list1 = []\n",
    "for i in range(5):\n",
    "    num = int(input(\"Enter a number: \"))\n",
    "    my_list1.append(num)\n",
    "\n",
    "print(my_list1)"
   ]
  },
  {
   "cell_type": "code",
   "execution_count": 4,
   "id": "0549d907",
   "metadata": {},
   "outputs": [
    {
     "name": "stdout",
     "output_type": "stream",
     "text": [
      "30\n"
     ]
    }
   ],
   "source": [
    "print(sum(my_list1) // len(my_list1))"
   ]
  },
  {
   "cell_type": "code",
   "execution_count": 5,
   "id": "fcaff2b0",
   "metadata": {},
   "outputs": [
    {
     "name": "stdout",
     "output_type": "stream",
     "text": [
      "255\n"
     ]
    }
   ],
   "source": [
    "my_tuple = (255, 255, 255)\n",
    "print(my_tuple[1])"
   ]
  },
  {
   "cell_type": "code",
   "execution_count": 6,
   "id": "3bf78dae",
   "metadata": {},
   "outputs": [
    {
     "ename": "AttributeError",
     "evalue": "'tuple' object has no attribute 'append'",
     "output_type": "error",
     "traceback": [
      "\u001b[1;31m---------------------------------------------------------------------------\u001b[0m",
      "\u001b[1;31mAttributeError\u001b[0m                            Traceback (most recent call last)",
      "Cell \u001b[1;32mIn[6], line 1\u001b[0m\n\u001b[1;32m----> 1\u001b[0m \u001b[43mmy_tuple\u001b[49m\u001b[38;5;241;43m.\u001b[39;49m\u001b[43mappend\u001b[49m(\u001b[38;5;241m200\u001b[39m)\n",
      "\u001b[1;31mAttributeError\u001b[0m: 'tuple' object has no attribute 'append'"
     ]
    }
   ],
   "source": [
    "my_tuple.append(200)"
   ]
  },
  {
   "cell_type": "code",
   "execution_count": 7,
   "id": "a95c2347",
   "metadata": {},
   "outputs": [
    {
     "ename": "TypeError",
     "evalue": "'tuple' object does not support item assignment",
     "output_type": "error",
     "traceback": [
      "\u001b[1;31m---------------------------------------------------------------------------\u001b[0m",
      "\u001b[1;31mTypeError\u001b[0m                                 Traceback (most recent call last)",
      "Cell \u001b[1;32mIn[7], line 1\u001b[0m\n\u001b[1;32m----> 1\u001b[0m \u001b[43mmy_tuple\u001b[49m\u001b[43m[\u001b[49m\u001b[38;5;241;43m1\u001b[39;49m\u001b[43m]\u001b[49m \u001b[38;5;241m=\u001b[39m \u001b[38;5;241m150\u001b[39m\n",
      "\u001b[1;31mTypeError\u001b[0m: 'tuple' object does not support item assignment"
     ]
    }
   ],
   "source": [
    "my_tuple[1] = 150"
   ]
  },
  {
   "cell_type": "code",
   "execution_count": 8,
   "id": "e05404f3",
   "metadata": {},
   "outputs": [
    {
     "name": "stdout",
     "output_type": "stream",
     "text": [
      "{1, 2, 3, 5}\n"
     ]
    }
   ],
   "source": [
    "my_set = {1, 1, 3, 5, 2, 1}\n",
    "print(my_set)"
   ]
  },
  {
   "cell_type": "code",
   "execution_count": 9,
   "id": "5dba657d",
   "metadata": {},
   "outputs": [
    {
     "name": "stdout",
     "output_type": "stream",
     "text": [
      "{1, 2, 3, 5}\n"
     ]
    }
   ],
   "source": [
    "x = [1, 1, 3, 5, 2, 1]\n",
    "my_set1 = set(x)\n",
    "print(my_set1)"
   ]
  },
  {
   "cell_type": "code",
   "execution_count": 10,
   "id": "20eb6725",
   "metadata": {},
   "outputs": [
    {
     "name": "stdout",
     "output_type": "stream",
     "text": [
      "1\n",
      "2\n",
      "3\n",
      "5\n"
     ]
    }
   ],
   "source": [
    "for number in my_set1:\n",
    "    print(number)"
   ]
  },
  {
   "cell_type": "code",
   "execution_count": 13,
   "id": "2949e1df",
   "metadata": {},
   "outputs": [
    {
     "name": "stdout",
     "output_type": "stream",
     "text": [
      "10 is not in the set\n"
     ]
    }
   ],
   "source": [
    "if 10 not in my_set1:\n",
    "    print(\"10 is not in the set\")"
   ]
  },
  {
   "cell_type": "code",
   "execution_count": 14,
   "id": "980e570c",
   "metadata": {},
   "outputs": [],
   "source": [
    "del my_set1"
   ]
  },
  {
   "cell_type": "code",
   "execution_count": 15,
   "id": "a96e6d56",
   "metadata": {},
   "outputs": [
    {
     "ename": "NameError",
     "evalue": "name 'my_set1' is not defined",
     "output_type": "error",
     "traceback": [
      "\u001b[1;31m---------------------------------------------------------------------------\u001b[0m",
      "\u001b[1;31mNameError\u001b[0m                                 Traceback (most recent call last)",
      "Cell \u001b[1;32mIn[15], line 1\u001b[0m\n\u001b[1;32m----> 1\u001b[0m \u001b[38;5;28mprint\u001b[39m(\u001b[43mmy_set1\u001b[49m)\n",
      "\u001b[1;31mNameError\u001b[0m: name 'my_set1' is not defined"
     ]
    }
   ],
   "source": [
    "print(my_set1)"
   ]
  },
  {
   "cell_type": "code",
   "execution_count": 26,
   "id": "3c042ff5",
   "metadata": {},
   "outputs": [
    {
     "name": "stdout",
     "output_type": "stream",
     "text": [
      "{'a': 'auto', 'b': 'boat', 'c': 'car'}\n"
     ]
    }
   ],
   "source": [
    "word_dict = {'a' : 'auto',\n",
    "             'b' : 'boat',\n",
    "             'c' : 'car'}\n",
    "\n",
    "print(word_dict)"
   ]
  },
  {
   "cell_type": "code",
   "execution_count": 23,
   "id": "15d162d0",
   "metadata": {},
   "outputs": [],
   "source": [
    "my_dict = dict([(1, \"apple\"), (2, \"ball\")])"
   ]
  },
  {
   "cell_type": "code",
   "execution_count": 24,
   "id": "87a82431",
   "metadata": {},
   "outputs": [
    {
     "name": "stdout",
     "output_type": "stream",
     "text": [
      "{1: 'apple', 2: 'ball'}\n"
     ]
    }
   ],
   "source": [
    "print(my_dict)"
   ]
  },
  {
   "cell_type": "code",
   "execution_count": 28,
   "id": "ac6929c7",
   "metadata": {},
   "outputs": [
    {
     "name": "stdout",
     "output_type": "stream",
     "text": [
      "car\n"
     ]
    }
   ],
   "source": [
    "print(word_dict['c'])"
   ]
  },
  {
   "cell_type": "code",
   "execution_count": 29,
   "id": "626b9e1c",
   "metadata": {},
   "outputs": [
    {
     "ename": "KeyError",
     "evalue": "'d'",
     "output_type": "error",
     "traceback": [
      "\u001b[1;31m---------------------------------------------------------------------------\u001b[0m",
      "\u001b[1;31mKeyError\u001b[0m                                  Traceback (most recent call last)",
      "Cell \u001b[1;32mIn[29], line 1\u001b[0m\n\u001b[1;32m----> 1\u001b[0m \u001b[38;5;28mprint\u001b[39m(\u001b[43mword_dict\u001b[49m\u001b[43m[\u001b[49m\u001b[38;5;124;43m'\u001b[39;49m\u001b[38;5;124;43md\u001b[39;49m\u001b[38;5;124;43m'\u001b[39;49m\u001b[43m]\u001b[49m)\n",
      "\u001b[1;31mKeyError\u001b[0m: 'd'"
     ]
    }
   ],
   "source": [
    "print(word_dict['d'])"
   ]
  },
  {
   "cell_type": "code",
   "execution_count": 30,
   "id": "efb303c3",
   "metadata": {},
   "outputs": [
    {
     "name": "stdout",
     "output_type": "stream",
     "text": [
      "{'a': 'auto', 'b': 'boat', 'c': 'car'}\n"
     ]
    }
   ],
   "source": [
    "print(word_dict)"
   ]
  },
  {
   "cell_type": "code",
   "execution_count": 31,
   "id": "e8f43fd8",
   "metadata": {},
   "outputs": [
    {
     "data": {
      "text/plain": [
       "'boat'"
      ]
     },
     "execution_count": 31,
     "metadata": {},
     "output_type": "execute_result"
    }
   ],
   "source": [
    "word_dict.get(\"b\")"
   ]
  },
  {
   "cell_type": "code",
   "execution_count": 33,
   "id": "3e025e84",
   "metadata": {},
   "outputs": [
    {
     "data": {
      "text/plain": [
       "'boat'"
      ]
     },
     "execution_count": 33,
     "metadata": {},
     "output_type": "execute_result"
    }
   ],
   "source": [
    "word_dict.get(\"b\", \"This key does not exist in the dictionary\")"
   ]
  },
  {
   "cell_type": "code",
   "execution_count": 34,
   "id": "1cd49a8d",
   "metadata": {},
   "outputs": [
    {
     "data": {
      "text/plain": [
       "'This key does not exist in the dictionary'"
      ]
     },
     "execution_count": 34,
     "metadata": {},
     "output_type": "execute_result"
    }
   ],
   "source": [
    "word_dict.get(\"d\", \"This key does not exist in the dictionary\")"
   ]
  },
  {
   "cell_type": "code",
   "execution_count": 36,
   "id": "5afb27d9",
   "metadata": {},
   "outputs": [
    {
     "name": "stdout",
     "output_type": "stream",
     "text": [
      "We have not such product\n"
     ]
    }
   ],
   "source": [
    "products = {\n",
    "    \"bread\" : 1.50,\n",
    "    \"milk\": 2.00,\n",
    "    \"pita\": 1.30\n",
    "}\n",
    "\n",
    "product = input(\"Give me the name of the product you want to buy: \")\n",
    "\n",
    "if product in products:\n",
    "    print(f\"The value of {product} is {products[product]}\")\n",
    "else:\n",
    "    print(\"We have not such product\")"
   ]
  },
  {
   "cell_type": "code",
   "execution_count": null,
   "id": "8b3a1e7d",
   "metadata": {},
   "outputs": [
    {
     "name": "stdout",
     "output_type": "stream",
     "text": [
      "30\n"
     ]
    }
   ],
   "source": [
    "\n",
    "for i in range(5):\n",
    "    num = int(input(\"Enter a number: \"))\n",
    "    numbers.append(num)\n",
    "\n",
    "\n"
   ]
  },
  {
   "cell_type": "code",
   "execution_count": 38,
   "id": "baad4a8c",
   "metadata": {},
   "outputs": [
    {
     "name": "stdout",
     "output_type": "stream",
     "text": [
      "30\n"
     ]
    }
   ],
   "source": [
    "numbers = [20, 30, 10, 25, 12]\n",
    "ans = numbers[0]\n",
    "for i in range(len(numbers)):\n",
    "    if numbers[i] > ans:\n",
    "        ans = numbers[i]\n",
    "\n",
    "print(ans)"
   ]
  },
  {
   "cell_type": "code",
   "execution_count": null,
   "id": "7483b9b0",
   "metadata": {},
   "outputs": [
    {
     "name": "stdout",
     "output_type": "stream",
     "text": [
      "1\n"
     ]
    }
   ],
   "source": [
    "words = ['dog', 'anna', 'a', 'cat']\n",
    "\n",
    "counter = 0\n",
    "for word in words:\n",
    "    if len(word) > 1 and word[0] == word[-1]:\n",
    "        counter += 1\n",
    "\n",
    "print(counter)"
   ]
  },
  {
   "cell_type": "code",
   "execution_count": 8,
   "id": "bcb7761d",
   "metadata": {},
   "outputs": [
    {
     "name": "stdout",
     "output_type": "stream",
     "text": [
      "{'Maria': 3, 'George': 1, 'Anna': 1}\n"
     ]
    }
   ],
   "source": [
    "votes = [\"Maria\", \"Maria\", \"George\", \"Anna\", \"Maria\"]\n",
    "\n",
    "vote_count = {}\n",
    "\n",
    "# for name in votes:\n",
    "#     if name in vote_count:\n",
    "#         vote_count[name] += 1\n",
    "#     else:\n",
    "#         vote_count[name] = 1\n",
    "    \n",
    "# print(vote_count)\n",
    "\n",
    "for name in votes:\n",
    "    vote_count[name] = vote_count.get(name, 0) + 1\n",
    "\n",
    "print(vote_count)\n"
   ]
  },
  {
   "cell_type": "code",
   "execution_count": 9,
   "id": "70e4d49d",
   "metadata": {},
   "outputs": [
    {
     "name": "stdout",
     "output_type": "stream",
     "text": [
      "Maria\n",
      "George\n",
      "Anna\n"
     ]
    }
   ],
   "source": [
    "for x in vote_count:\n",
    "    print(x)"
   ]
  },
  {
   "cell_type": "code",
   "execution_count": 11,
   "id": "409a42c7",
   "metadata": {},
   "outputs": [
    {
     "name": "stdout",
     "output_type": "stream",
     "text": [
      "dict_keys(['Maria', 'George', 'Anna'])\n"
     ]
    }
   ],
   "source": [
    "print(vote_count.keys())"
   ]
  },
  {
   "cell_type": "code",
   "execution_count": 12,
   "id": "7e7e1ca0",
   "metadata": {},
   "outputs": [
    {
     "name": "stdout",
     "output_type": "stream",
     "text": [
      "dict_items([('Maria', 3), ('George', 1), ('Anna', 1)])\n"
     ]
    }
   ],
   "source": [
    "print(vote_count.items())"
   ]
  },
  {
   "cell_type": "code",
   "execution_count": null,
   "id": "c111c65c",
   "metadata": {},
   "outputs": [
    {
     "name": "stdout",
     "output_type": "stream",
     "text": [
      "3\n"
     ]
    }
   ],
   "source": [
    "x, y, z = (1, 2, 3)\n",
    "print(z)"
   ]
  },
  {
   "cell_type": "code",
   "execution_count": 20,
   "id": "7ad5b441",
   "metadata": {},
   "outputs": [
    {
     "name": "stdout",
     "output_type": "stream",
     "text": [
      "{18: ['George']}\n",
      "{18: ['George'], 19: ['Anna']}\n",
      "{18: ['George', 'Maria'], 19: ['Anna']}\n"
     ]
    }
   ],
   "source": [
    "students = {\n",
    "    \"George\" : 18,\n",
    "    \"Anna\" : 19,\n",
    "    \"Maria\": 18\n",
    "}\n",
    "\n",
    "grades = {}\n",
    "\n",
    "for student, grade in students.items():\n",
    "    if grade not in grades:\n",
    "        grades[grade] = []\n",
    "    grades[grade].append(student)\n",
    "    print(grades)"
   ]
  },
  {
   "cell_type": "code",
   "execution_count": 21,
   "id": "2b78a31e",
   "metadata": {},
   "outputs": [
    {
     "name": "stdout",
     "output_type": "stream",
     "text": [
      "['Hello,', 'there']\n"
     ]
    }
   ],
   "source": [
    "print(\"Hello, there\".split())"
   ]
  },
  {
   "cell_type": "code",
   "execution_count": 22,
   "id": "727921e5",
   "metadata": {},
   "outputs": [
    {
     "name": "stdout",
     "output_type": "stream",
     "text": [
      "hello\n"
     ]
    }
   ],
   "source": [
    "print(\"Hello\".lower())"
   ]
  },
  {
   "cell_type": "code",
   "execution_count": 28,
   "id": "0b3c9c2b",
   "metadata": {},
   "outputs": [
    {
     "name": "stdout",
     "output_type": "stream",
     "text": [
      "{'hello': 3, 'there': 2}\n"
     ]
    }
   ],
   "source": [
    "message = input(\"Enter a message: \")\n",
    "\n",
    "words = message.split()\n",
    "\n",
    "for i in range(len(words)):\n",
    "    words[i] = words[i].lower()\n",
    "\n",
    "words_freq = {}\n",
    "\n",
    "for word in words:\n",
    "    words_freq[word] = words_freq.get(word, 0) + 1\n",
    "\n",
    "print(words_freq)\n"
   ]
  },
  {
   "cell_type": "code",
   "execution_count": 29,
   "id": "a2c2a544",
   "metadata": {},
   "outputs": [
    {
     "name": "stdout",
     "output_type": "stream",
     "text": [
      "[1, 2, 3]\n"
     ]
    }
   ],
   "source": [
    "nums = []\n",
    "num = int(input(\"Please enter a number: \"))\n",
    "while num != -1:\n",
    "    nums.append(num)\n",
    "    num = int(input(\"Please enter a number: \"))\n",
    "\n",
    "print(nums)"
   ]
  },
  {
   "cell_type": "code",
   "execution_count": 30,
   "id": "124001e7",
   "metadata": {},
   "outputs": [
    {
     "name": "stdout",
     "output_type": "stream",
     "text": [
      "0\n",
      "1\n",
      "2\n",
      "3\n",
      "4\n",
      "5\n",
      "6\n",
      "7\n",
      "8\n",
      "9\n",
      "10\n"
     ]
    }
   ],
   "source": [
    "for i in range(11):\n",
    "    print(i)"
   ]
  },
  {
   "cell_type": "code",
   "execution_count": null,
   "id": "024cfa01",
   "metadata": {},
   "outputs": [
    {
     "name": "stdout",
     "output_type": "stream",
     "text": [
      "0\n",
      "1\n",
      "2\n",
      "3\n",
      "4\n",
      "5\n",
      "6\n",
      "7\n",
      "8\n",
      "9\n",
      "10\n"
     ]
    }
   ],
   "source": [
    "num = 0\n",
    "while num > -1:\n",
    "    print(num)\n",
    "    num += 1"
   ]
  },
  {
   "cell_type": "code",
   "execution_count": 1,
   "id": "b45ea76b",
   "metadata": {},
   "outputs": [
    {
     "name": "stdout",
     "output_type": "stream",
     "text": [
      "We are adding peperoni to your pizza\n",
      "We are adding manitaria to your pizza\n"
     ]
    }
   ],
   "source": [
    "toppings = []\n",
    "topping = input(\"Enter a pizza topping you like: \")\n",
    "while topping != 'quit':\n",
    "    toppings.append(topping)\n",
    "    print(f\"We are adding {topping} to your pizza\")\n",
    "    topping = input(\"Enter a pizza topping you like: \")"
   ]
  },
  {
   "cell_type": "code",
   "execution_count": null,
   "id": "b83d173a",
   "metadata": {},
   "outputs": [
    {
     "ename": "ValueError",
     "evalue": "invalid literal for int() with base 10: ''",
     "output_type": "error",
     "traceback": [
      "\u001b[1;31m---------------------------------------------------------------------------\u001b[0m",
      "\u001b[1;31mValueError\u001b[0m                                Traceback (most recent call last)",
      "Cell \u001b[1;32mIn[1], line 1\u001b[0m\n\u001b[1;32m----> 1\u001b[0m age \u001b[38;5;241m=\u001b[39m \u001b[38;5;28;43mint\u001b[39;49m\u001b[43m(\u001b[49m\u001b[38;5;28;43minput\u001b[39;49m\u001b[43m(\u001b[49m\u001b[38;5;124;43m\"\u001b[39;49m\u001b[38;5;124;43mEnter your age: \u001b[39;49m\u001b[38;5;124;43m\"\u001b[39;49m\u001b[43m)\u001b[49m\u001b[43m)\u001b[49m\n\u001b[0;32m      2\u001b[0m \u001b[38;5;28;01mwhile\u001b[39;00m age \u001b[38;5;241m>\u001b[39m \u001b[38;5;241m0\u001b[39m \u001b[38;5;129;01mand\u001b[39;00m age \u001b[38;5;241m<\u001b[39m \u001b[38;5;241m100\u001b[39m:\n\u001b[0;32m      3\u001b[0m     \u001b[38;5;28;01mif\u001b[39;00m age \u001b[38;5;241m<\u001b[39m \u001b[38;5;241m3\u001b[39m:\n",
      "\u001b[1;31mValueError\u001b[0m: invalid literal for int() with base 10: ''"
     ]
    }
   ],
   "source": [
    "age = int(input(\"Enter your age: \"))\n",
    "while age > 0 and age < 100:\n",
    "    if age < 3:\n",
    "        print(\"Free of charge\")\n",
    "    elif age < 12:\n",
    "        print(\"10$\")\n",
    "    else:\n",
    "        print(\"15$\")\n",
    "    age = int(input(\"Enter your age: \"))\n"
   ]
  },
  {
   "cell_type": "code",
   "execution_count": null,
   "id": "4d29eeb4",
   "metadata": {},
   "outputs": [],
   "source": []
  }
 ],
 "metadata": {
  "kernelspec": {
   "display_name": ".venv",
   "language": "python",
   "name": "python3"
  },
  "language_info": {
   "codemirror_mode": {
    "name": "ipython",
    "version": 3
   },
   "file_extension": ".py",
   "mimetype": "text/x-python",
   "name": "python",
   "nbconvert_exporter": "python",
   "pygments_lexer": "ipython3",
   "version": "3.12.5"
  }
 },
 "nbformat": 4,
 "nbformat_minor": 5
}
